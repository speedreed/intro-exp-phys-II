{
 "cells": [
  {
   "cell_type": "markdown",
   "metadata": {
    "collapsed": true
   },
   "source": [
    "## Central Limit Theorem\n",
    "\n",
    "The [central limit theorem](https://en.wikipedia.org/wiki/Central_limit_theorem) is a key result in probability theory that helps explain why normal, or Gaussian, distributions are so omnipresent. The setup is that you have distributions for $N$ random variables $x_i$ and you want to know the distribution of $q = \\sum_{i=1}^{N} x_i$. Think of each $x_i$ as coming from it's own distribution like in the figure below. For instance, $x_1$ might be the weight of spoons, $x_2$ the weight of forks, $x_3$ the weight of bowls, ..., and $x_N$ of plates in your kitchen. Then $q$ would represent the total weight when you have one of each of those objects. The distribution of weights for each object might be weird because you have some mix-and-match set of silverware from your parents, grandparents, IKEA, and the thrift shop. The *central limit theorem* says that if you have enough objects (i.e. $N$ is large), then $q$ has a normal (Gaussian) distribution.\n",
    "\n",
    "![](Central_limit_theorem.png)\n",
    "\n",
    "Moreover, the central limit theorem states that the mean value of $q$ is given by\n",
    "\n",
    "\\begin{equation}\n",
    "\\mu_{q} = \\sum_{i=1}^{N} \\mu_{x_i} \n",
    "\\end{equation}\n",
    "\n",
    "and the variance (standard deviation squared) is given by\n",
    "\n",
    "\\begin{equation}\n",
    "\\sigma_{q}^{2} = \\sum_{i=1}^{N} \\sigma^2_{x_i} \n",
    "\\end{equation}\n",
    "\n",
    "*if you are having problems with the math displaing, click [here](http://nbviewer.jupyter.org/github/cranmer/intro-exp-phys-II/blob/master/Central-Limit-Theorem.ipynb?flush_cache=true)*\n",
    "\n",
    "The mean probably isn't surprising because $q$ is just a sum and the integral the defines the mean just distributes across each term. Also, the equation for the variance is the same as the propagation of errors formula we use when we add different measurements together. However, that propoagation of errors formula is derived from the Central Limit Theorem, not vice versa.\n",
    "\n",
    "### This is a collaborative project\n",
    "\n",
    "In this repository there is a folder called `distributions` with several python files. The idea is that each student will create one of these python files and we will use GitHub to collect them. Each of these files has a python class that describes a probability distribution.  Each of these classes will define:\n",
    "   * `x_min, x_max, f_max` - used for the accept/reject Monte Carlo sampling algorithm\n",
    "   * `pdf()` - the probability density function\n",
    "   * `mean()` - the mean of the pdf\n",
    "   * `std()` - the standard deviation of the pdf\n",
    "   \n",
    "In addition, each of these python classes inherits from `BaseDistribution` which knows how to run the accept/reject algorithm using the information above ([see inside](distributions/base_distribution.py) ). In order to generate `n_samples` from the pdf, you simply call `dist.rvs(n_samples)`, where `dist` is an instance of one of these python classes.\n",
    "\n",
    "**Naming Convention**: Name your file `Dist_<netid>.py` and your distribution the same way (without the `.py`). If you want to contribute more than one distribution, you can can add `Dist_<netid>_<index>.py`, where `<index>` is 1,2,3,...\n",
    "\n",
    "Here's an example:"
   ]
  },
  {
   "cell_type": "code",
   "execution_count": 1,
   "metadata": {},
   "outputs": [
    {
     "name": "stderr",
     "output_type": "stream",
     "text": [
      "'cat' is not recognized as an internal or external command,\n",
      "operable program or batch file.\n"
     ]
    }
   ],
   "source": [
    "!cat distributions/Dist_kc90.py"
   ]
  },
  {
   "cell_type": "markdown",
   "metadata": {},
   "source": [
    "# Part 1: Create your distribution Send pull request\n",
    "\n",
    "Basically everyone has done this by now. The master branch of the repository has all the contributions\n",
    "\n",
    "# Part 2: Pull the distribution to get all the \n",
    "\n",
    "You need to open a shell (eg. from GitHub desktop you can:\n",
    "\n",
    " * Windows: `Repository > Open in Command`\n",
    " * Mac: `Repository > Open in Terminal`\n",
    " \n",
    " Then type: `git pull upstream master`\n",
    " \n",
    " Now you should have many new distributions.\n",
    " \n",
    " \n",
    "# Part 3: Update and Execute this notebook. \n",
    " \n",
    " The Cells labeled `In [9]` and `In [14]` refer to the distributon `Dist_kc90`. Update those lines to refer to yoru distribution. \n",
    " \n",
    " Then Execute the full notebook. `Cell > Run All`"
   ]
  },
  {
   "cell_type": "markdown",
   "metadata": {},
   "source": [
    "## Example usage of the distributions\n",
    "\n",
    "Ok, now let's use them. So far there are only two distributions, but there will be more soon."
   ]
  },
  {
   "cell_type": "code",
   "execution_count": 2,
   "metadata": {},
   "outputs": [
    {
     "data": {
      "text/plain": [
       "datetime.date(2020, 5, 6)"
      ]
     },
     "execution_count": 2,
     "metadata": {},
     "output_type": "execute_result"
    }
   ],
   "source": [
    "from datetime import date\n",
    "date.today()"
   ]
  },
  {
   "cell_type": "code",
   "execution_count": 3,
   "metadata": {},
   "outputs": [
    {
     "name": "stdout",
     "output_type": "stream",
     "text": [
      "Populating the interactive namespace from numpy and matplotlib\n"
     ]
    }
   ],
   "source": [
    "%pylab inline --no-import-all\n",
    "from scipy.stats import norm #will use this for plotting"
   ]
  },
  {
   "cell_type": "code",
   "execution_count": 4,
   "metadata": {},
   "outputs": [],
   "source": [
    "# import all our distributions\n",
    "import distributions"
   ]
  },
  {
   "cell_type": "code",
   "execution_count": 5,
   "metadata": {},
   "outputs": [
    {
     "data": {
      "text/plain": [
       "dict_keys(['Dist_cmr653', 'Dist_rdm445', 'Dist_speedreed', 'Dist_ltw244', 'Dist_bt1369', 'Dist_kc90', 'Dist_rmr557', 'Dist_jam1535', 'Dist_at4227', 'Dist_os852', 'Dist_ia1113', 'Dist_knd286', 'Dist_aew492', 'Dist_cah736', 'Dist_phh250', 'Dist_ks938', 'Dist_sk7372', 'Dist_kc90_4', 'Dist_sj2879', 'Dist_dmc731', 'Dist_sdl433', 'Dist_pbg240', 'Dist_pw1091', 'Dist_lac683', 'Dist_ajt540', 'Dist_sm6779', 'Dist_mkb452', 'Dist_npl248', 'Dist_speedreed2', 'Dist_emm815', 'Dist_yx1796', 'Dist_abw400', 'Dist_sea438', 'Dist_sb6187', 'Dist_ejt352', 'Dist_tt1392', 'Dist_jdg577'])"
      ]
     },
     "execution_count": 5,
     "metadata": {},
     "output_type": "execute_result"
    }
   ],
   "source": [
    "# some funny python to make a list of all the distributions for convenience\n",
    "all_distributions_dict = dict([(name, cls) for name, cls in distributions.__dict__.items() if isinstance(cls, type)])\n",
    "all_distributions_list = [(cls) for name, cls in distributions.__dict__.items() if isinstance(cls, type)]\n",
    "# print out their names\n",
    "all_distributions_dict.keys()"
   ]
  },
  {
   "cell_type": "code",
   "execution_count": 6,
   "metadata": {},
   "outputs": [
    {
     "data": {
      "text/plain": [
       "37"
      ]
     },
     "execution_count": 6,
     "metadata": {},
     "output_type": "execute_result"
    }
   ],
   "source": [
    "len(all_distributions_dict.keys())"
   ]
  },
  {
   "cell_type": "code",
   "execution_count": 7,
   "metadata": {},
   "outputs": [
    {
     "name": "stdout",
     "output_type": "stream",
     "text": [
      "Dist_cmr653 passes tests, adding it\n",
      "Dist_rdm445 passes tests, adding it\n",
      "Dist_speedreed passes tests, adding it\n",
      "Dist_ltw244 passes tests, adding it\n",
      "Dist_bt1369 passes tests, adding it\n",
      "Dist_kc90 passes tests, adding it\n",
      "Dist_rmr557 passes tests, adding it\n",
      "Dist_jam1535 has errors, does't work\n",
      "Dist_at4227 passes tests, adding it\n",
      "Dist_os852 passes tests, adding it\n",
      "Dist_ia1113 passes tests, adding it\n",
      "Dist_knd286 passes tests, adding it\n",
      "Dist_aew492 passes tests, adding it\n"
     ]
    },
    {
     "name": "stderr",
     "output_type": "stream",
     "text": [
      "C:\\Users\\Cranmer\\Documents\\GitHub\\intro-exp-phys-II\\distributions\\Dist_cah736.py:13: RuntimeWarning: invalid value encountered in true_divide\n",
      "  return ((np.sin(x)**2))/(1.55595*x)\n",
      "C:\\Users\\Cranmer\\anaconda3\\lib\\site-packages\\ipykernel_launcher.py:29: RuntimeWarning: invalid value encountered in less\n"
     ]
    },
    {
     "name": "stdout",
     "output_type": "stream",
     "text": [
      "Dist_cah736 passes tests, adding it\n",
      "Dist_phh250 passes tests, adding it\n",
      "Dist_ks938 passes tests, adding it\n",
      "Dist_sk7372 passes tests, adding it\n",
      "Dist_kc90_4 passes tests, adding it\n",
      "Dist_sj2879 passes tests, adding it\n",
      "Dist_dmc731 passes tests, adding it\n",
      "Dist_sdl433 passes tests, adding it\n",
      "means don't match for Dist_pbg240: 2.402464 vs. 3.200000\n",
      "Dist_pw1091 passes tests, adding it\n",
      "Dist_lac683 passes tests, adding it\n",
      "Dist_ajt540 passes tests, adding it\n",
      "Dist_sm6779 passes tests, adding it\n",
      "means don't match for Dist_mkb452: 2.069959 vs. 2.066190\n",
      "Dist_npl248 passes tests, adding it\n",
      "Dist_speedreed2 passes tests, adding it\n",
      "Dist_emm815 passes tests, adding it\n",
      "Dist_yx1796 passes tests, adding it\n",
      "Dist_abw400 passes tests, adding it\n",
      "Dist_sea438 passes tests, adding it\n",
      "Dist_sb6187 passes tests, adding it\n",
      "Dist_ejt352 passes tests, adding it\n",
      "Dist_tt1392 passes tests, adding it\n",
      "Dist_jdg577 passes tests, adding it\n",
      "list of ok distributions: ['Dist_cmr653', 'Dist_rdm445', 'Dist_speedreed', 'Dist_ltw244', 'Dist_bt1369', 'Dist_kc90', 'Dist_rmr557', 'Dist_at4227', 'Dist_os852', 'Dist_ia1113', 'Dist_knd286', 'Dist_aew492', 'Dist_cah736', 'Dist_phh250', 'Dist_ks938', 'Dist_sk7372', 'Dist_kc90_4', 'Dist_sj2879', 'Dist_dmc731', 'Dist_sdl433', 'Dist_pw1091', 'Dist_lac683', 'Dist_ajt540', 'Dist_sm6779', 'Dist_npl248', 'Dist_speedreed2', 'Dist_emm815', 'Dist_yx1796', 'Dist_abw400', 'Dist_sea438', 'Dist_sb6187', 'Dist_ejt352', 'Dist_tt1392', 'Dist_jdg577']\n"
     ]
    }
   ],
   "source": [
    "## Do tests\n",
    "ok_distributions_list=[]\n",
    "problems=[]\n",
    "for i, cls in enumerate(all_distributions_list):\n",
    "    #print(cls)\n",
    "    try:\n",
    "        dist = cls()\n",
    "        N_test = 10000\n",
    "        #print('will try to generate for %s' %(cls.__name__))\n",
    "        if dist.pdf(dist.x_min + .3*(dist.x_max-dist.x_min)) < 1E-3:\n",
    "            print(\"may have a problem\")\n",
    "            continue\n",
    "            \n",
    "        rvs = dist.rvs(N_test)\n",
    "        if np.abs(np.mean(rvs) - dist.mean()) > 5*np.std(rvs)/np.sqrt(N_test):\n",
    "            print(\"means don't match for %s: %f vs. %f\" %(cls.__name__, \n",
    "                                                          np.mean(rvs), dist.mean()))\n",
    "            continue\n",
    "            \n",
    "        elif np.abs(np.std(rvs) - dist.std()) > 5*np.std(rvs)/np.sqrt(np.sqrt(1.*N_test)):\n",
    "            print(\"std devs. don't match for %s: %f vs. %f\" %(cls.__name__, \n",
    "                                                          np.std(rvs), dist.std()))\n",
    "            continue\n",
    "        elif np.abs(np.std(rvs) - dist.std()) / dist.std() > 0.1:\n",
    "            print(\"std devs. don't match for %s: %f vs. %f\" %(cls.__name__, \n",
    "                                                          np.std(rvs), dist.std()))\n",
    "            continue\n",
    "        \n",
    "        elif np.sum(dist.pdf(np.linspace(dist.x_min,dist.x_max,100))<0) > 0:\n",
    "            print(\"pdf was negative in some places\")\n",
    "            continue                    \n",
    "\n",
    "        else:\n",
    "            print(\"%s passes tests, adding it\" %(cls.__name__))\n",
    "            ok_distributions_list.append(cls)\n",
    "    except:\n",
    "        print(\"%s has errors, does't work\" %(cls.__name__))\n",
    "        continue\n",
    "\n",
    "print(\"list of ok distributions:\",[i.__name__ for i in ok_distributions_list])\n",
    "\n",
    "\n"
   ]
  },
  {
   "cell_type": "code",
   "execution_count": 8,
   "metadata": {},
   "outputs": [
    {
     "data": {
      "text/plain": [
       "['Dist_jam1535', 'Dist_pbg240', 'Dist_mkb452']"
      ]
     },
     "execution_count": 8,
     "metadata": {},
     "output_type": "execute_result"
    }
   ],
   "source": [
    "problems = [x for x in all_distributions_list if x not in ok_distributions_list]\n",
    "[i.__name__ for i in problems]"
   ]
  },
  {
   "cell_type": "code",
   "execution_count": 9,
   "metadata": {},
   "outputs": [],
   "source": [
    "# how many samples for plots?\n",
    "n_samples = 100000"
   ]
  },
  {
   "cell_type": "markdown",
   "metadata": {},
   "source": [
    "**Update to use your distribution**"
   ]
  },
  {
   "cell_type": "code",
   "execution_count": 10,
   "metadata": {},
   "outputs": [
    {
     "data": {
      "text/plain": [
       "[<matplotlib.lines.Line2D at 0x12a0f856a08>]"
      ]
     },
     "execution_count": 10,
     "metadata": {},
     "output_type": "execute_result"
    },
    {
     "data": {
      "image/png": "[encoded data removed]",
      "text/plain": [
       "<Figure size 432x288 with 1 Axes>"
      ]
     },
     "metadata": {
      "needs_background": "light"
     },
     "output_type": "display_data"
    }
   ],
   "source": [
    "# Here's an example of usage\n",
    "dist = distributions.Dist_speedreed()\n",
    "rvs = dist.rvs(n_samples)\n",
    "counts, bins, edges = plt.hist(rvs, bins=50, density=True, alpha =0.2)\n",
    "y = []\n",
    "for bin in bins:\n",
    "    y.append(dist.pdf(bin))\n",
    "plt.plot(bins, y, c='r', lw=2)"
   ]
  },
  {
   "cell_type": "code",
   "execution_count": 11,
   "metadata": {},
   "outputs": [
    {
     "data": {
      "text/plain": [
       "1.4142135623730951"
      ]
     },
     "execution_count": 11,
     "metadata": {},
     "output_type": "execute_result"
    }
   ],
   "source": [
    "dist.std()"
   ]
  },
  {
   "cell_type": "markdown",
   "metadata": {},
   "source": [
    "## Let's inspect all the distributions we have\n",
    "\n",
    "Here we will loop over the different distributions and make a plot like the one above"
   ]
  },
  {
   "cell_type": "code",
   "execution_count": null,
   "metadata": {},
   "outputs": [
    {
     "name": "stdout",
     "output_type": "stream",
     "text": [
      "Dist_cmr653: std from samples = 1.25, std from dist = 1.25\n",
      "Dist_rdm445: std from samples = 0.71, std from dist = 0.71\n",
      "Dist_speedreed: std from samples = 1.41, std from dist = 1.41\n",
      "Dist_ltw244: std from samples = 0.58, std from dist = 0.58\n",
      "Dist_bt1369: std from samples = 1.57, std from dist = 1.57\n",
      "Dist_kc90: std from samples = 0.71, std from dist = 0.71\n",
      "Dist_rmr557: std from samples = 0.61, std from dist = 0.61\n",
      "Dist_at4227: std from samples = 0.69, std from dist = 0.68\n",
      "Dist_os852: std from samples = 0.66, std from dist = 0.65\n",
      "Dist_ia1113: std from samples = 0.14, std from dist = 0.14\n",
      "Dist_knd286: std from samples = 0.31, std from dist = 0.31\n",
      "Dist_aew492: std from samples = 0.39, std from dist = 0.39\n",
      "Dist_cah736: std from samples = 1.50, std from dist = 1.50\n"
     ]
    }
   ],
   "source": [
    "fig = plt.figure(figsize=2*plt.figaspect(len(ok_distributions_list)))\n",
    "for i, cls in enumerate(ok_distributions_list):\n",
    "    dist = cls()\n",
    "    rvs = dist.rvs(10000)\n",
    "    ax = fig.add_subplot(len(ok_distributions_list),1,i+1)\n",
    "    counts, bins, patches = ax.hist(rvs, bins=50, density=True, alpha=0.2)\n",
    "    # depending on how you code up your pdf() function, numpy might not\n",
    "    # be able to \"broadcast\" (apply the function for each element of a numpy array)\n",
    "    # but this should always wrok\n",
    "    y = []\n",
    "    for bin in bins:\n",
    "        y.append(dist.pdf(bin))\n",
    "        \n",
    "    # ok, now plot it\n",
    "    plt.plot(bins, y, c='r', lw=2)\n",
    "    \n",
    "    # and let's check if the distribution is ok\n",
    "    print(\"%s: std from samples = %.2f, std from dist = %.2f\" %(cls.__name__,np.std(dist.rvs(n_samples)), dist.std()))\n",
    "    if np.abs(np.std(dist.rvs(n_samples)) - dist.std()) / dist.std() > 0.1:\n",
    "        print(\"looks like a problem with this distribution: \", cls)"
   ]
  },
  {
   "cell_type": "code",
   "execution_count": null,
   "metadata": {},
   "outputs": [],
   "source": [
    "fig = plt.figure(figsize=2*plt.figaspect(len(problems)))\n",
    "for i, cls in enumerate(problems):\n",
    "    dist = cls()\n",
    "    rvs = dist.rvs(10000)\n",
    "    ax = fig.add_subplot(len(ok_distributions_list),1,i+1)\n",
    "    counts, bins, patches = ax.hist(rvs, bins=50, density=True, alpha=0.2)\n",
    "    # depending on how you code up your pdf() function, numpy might not\n",
    "    # be able to \"broadcast\" (apply the function for each element of a numpy array)\n",
    "    # but this should always wrok\n",
    "    y = []\n",
    "    for bin in bins:\n",
    "        y.append(dist.pdf(bin))\n",
    "        \n",
    "    # ok, now plot it\n",
    "    plt.plot(bins, y, c='r', lw=2)\n",
    "    \n",
    "    # and let's check if the distribution is ok\n",
    "    print(\"%s: std from samples = %.2f, std from dist = %.2f\" %(cls.__name__,np.std(dist.rvs(n_samples)), dist.std()))\n",
    "    if np.abs(np.std(dist.rvs(n_samples)) - dist.std()) / dist.std() > 0.1:\n",
    "        print(\"looks like a problem with this distribution: \", cls)"
   ]
  },
  {
   "cell_type": "markdown",
   "metadata": {},
   "source": [
    "## Demonstration of the Central Limit Theorem\n",
    "\n",
    "ok, let's use one of the distributions to demonstrate the central limit theorem. We will use the same distribution $N$ times.\n",
    "\n",
    "First let's make a little helper function."
   ]
  },
  {
   "cell_type": "code",
   "execution_count": null,
   "metadata": {},
   "outputs": [],
   "source": [
    "def do_convolution(dist, N):\n",
    "    n_samples = 10000\n",
    "    q = np.zeros(n_samples)\n",
    "    var_q = 0.\n",
    "    mean_q = 0.\n",
    "\n",
    "    for i in range(N):\n",
    "        q = q+dist.rvs(n_samples)\n",
    "        var_q = var_q + dist.std()**2\n",
    "        mean_q = mean_q + dist.mean()\n",
    "\n",
    "    std_q = np.sqrt( var_q )\n",
    "\n",
    "\n",
    "    counts, bins, patches = plt.hist(q,bins=50, density=True, alpha=.2)\n",
    "    plt.plot(bins, norm.pdf(bins,loc=mean_q, scale=std_q), lw=2, c='r')"
   ]
  },
  {
   "cell_type": "markdown",
   "metadata": {},
   "source": [
    "Now let's use it for $N=\\{2,4,32\\}$\n",
    "\n",
    "**UPDATE THE NEXT LINE TO USE YOUR DISTRIBUTION**"
   ]
  },
  {
   "cell_type": "code",
   "execution_count": null,
   "metadata": {},
   "outputs": [],
   "source": [
    "dist = distributions.Dist_speedreed()  #update me!\n",
    "do_convolution(dist,2)"
   ]
  },
  {
   "cell_type": "code",
   "execution_count": null,
   "metadata": {},
   "outputs": [],
   "source": [
    "do_convolution(dist,4)"
   ]
  },
  {
   "cell_type": "code",
   "execution_count": null,
   "metadata": {},
   "outputs": [],
   "source": [
    "do_convolution(dist,32)"
   ]
  },
  {
   "cell_type": "markdown",
   "metadata": {},
   "source": [
    "*Gorgeous!*"
   ]
  },
  {
   "cell_type": "markdown",
   "metadata": {},
   "source": [
    "## Now let's do the same thing randomly using different distributions \n",
    "\n",
    "To do this we will use `np.random.choice` to randomly choose from our list. Here's an example"
   ]
  },
  {
   "cell_type": "code",
   "execution_count": null,
   "metadata": {},
   "outputs": [],
   "source": [
    "np.random.choice(['a','b','c','d'], 10)"
   ]
  },
  {
   "cell_type": "markdown",
   "metadata": {},
   "source": [
    "Now let's make a variation on the helper function above"
   ]
  },
  {
   "cell_type": "code",
   "execution_count": null,
   "metadata": {},
   "outputs": [],
   "source": [
    "def do_random_convolution(list_of_distributions, N):\n",
    "    n_samples = 10000\n",
    "    q = np.zeros(n_samples)\n",
    "    var_q = 0.\n",
    "    mean_q = 0.\n",
    "\n",
    "    for dist_class in np.random.choice(list_of_distributions,N):\n",
    "        dist = dist_class()\n",
    "        print(dist_class.__name__, dist.std())\n",
    "        q = q+dist.rvs(n_samples)\n",
    "        var_q = var_q + dist.std()**2\n",
    "        mean_q = mean_q + dist.mean()\n",
    "\n",
    "    std_q = np.sqrt( var_q )\n",
    "\n",
    "\n",
    "    counts, bins, patches = plt.hist(q,bins=50, density=True, alpha=.2)\n",
    "    plt.plot(bins, norm.pdf(bins,loc=mean_q, scale=std_q), lw=2, c='r')"
   ]
  },
  {
   "cell_type": "code",
   "execution_count": null,
   "metadata": {},
   "outputs": [],
   "source": [
    "do_random_convolution(ok_distributions_list,2)"
   ]
  },
  {
   "cell_type": "code",
   "execution_count": null,
   "metadata": {},
   "outputs": [],
   "source": [
    "do_random_convolution(ok_distributions_list,4)"
   ]
  },
  {
   "cell_type": "code",
   "execution_count": null,
   "metadata": {},
   "outputs": [],
   "source": [
    "do_random_convolution(ok_distributions_list,4)"
   ]
  },
  {
   "cell_type": "code",
   "execution_count": null,
   "metadata": {},
   "outputs": [],
   "source": [
    "do_random_convolution(ok_distributions_list,32)"
   ]
  },
  {
   "cell_type": "markdown",
   "metadata": {
    "collapsed": true
   },
   "source": [
    "# Extra Credit: \n"
   ]
  },
  {
   "cell_type": "markdown",
   "metadata": {},
   "source": [
    "## a) Edit function below to calculate the $\\chi^2$ for prediction and observation\n",
    "\n",
    "Below is a copy of the `do_random_convolution` function with a new name. Modify it so taht it returns the chi-square quantity that says how closely the observed distribution matches the prediction from the Central Limit theorem.\n",
    "\n",
    "You might want to check out the [chi-square-of-distribution](chi-square-of-distribution.ipynb) notebook"
   ]
  },
  {
   "cell_type": "code",
   "execution_count": null,
   "metadata": {},
   "outputs": [],
   "source": [
    "def do_random_convolution_with_chi2(list_of_distributions, N):\n",
    "    n_samples = 100000\n",
    "    q = np.zeros(n_samples)\n",
    "    var_q = 0.\n",
    "    mean_q = 0.\n",
    "\n",
    "    for dist_class in np.random.choice(list_of_distributions,N):\n",
    "        dist = dist_class()\n",
    "        q = q+dist.rvs(n_samples)\n",
    "        var_q = var_q + dist.std()**2\n",
    "        mean_q = mean_q + dist.mean()\n",
    "\n",
    "    std_q = np.sqrt( var_q )\n",
    "\n",
    "\n",
    "    counts, bins, patches = plt.hist(q,bins=50, density=True, alpha=.2)\n",
    "    plt.plot(bins, norm.pdf(bins,loc=mean_q, scale=std_q), lw=2, c='r')"
   ]
  },
  {
   "cell_type": "markdown",
   "metadata": {},
   "source": [
    "## b) Make a plot\n",
    "\n",
    "Plot the $\\chi^2$ quantity vs. N for N=2,4,8,16,32"
   ]
  },
  {
   "cell_type": "markdown",
   "metadata": {},
   "source": [
    "# Part 4: To Turn In: \n",
    "\n",
    "## a) Push a new version of this notebook to GitHub\n",
    "\n",
    "Execute the notebook, get your plots, save it, commit the changes to the `part2` branch, and then push to GitHub.com.  When you are done, make a new pull request. (I won't accept the Pull Request, but it will help me find it).\n",
    "\n",
    "## b) Save a PDF so you can turn in on NYU classes:\n",
    "\n",
    "File > Download As > PDF via LaTeX\n",
    "\n",
    "Upload to assignment in NYU classes"
   ]
  },
  {
   "cell_type": "code",
   "execution_count": null,
   "metadata": {},
   "outputs": [],
   "source": [
    "from datetime import date\n",
    "date.today()"
   ]
  },
  {
   "cell_type": "code",
   "execution_count": null,
   "metadata": {},
   "outputs": [],
   "source": []
  },
  {
   "cell_type": "code",
   "execution_count": null,
   "metadata": {},
   "outputs": [],
   "source": []
  }
 ],
 "metadata": {
  "kernelspec": {
   "display_name": "Python 3",
   "language": "python",
   "name": "python3"
  },
  "language_info": {
   "codemirror_mode": {
    "name": "ipython",
    "version": 3
   },
   "file_extension": ".py",
   "mimetype": "text/x-python",
   "name": "python",
   "nbconvert_exporter": "python",
   "pygments_lexer": "ipython3",
   "version": "3.7.6"
  }
 },
 "nbformat": 4,
 "nbformat_minor": 1
}
